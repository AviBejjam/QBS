{
 "cells": [
  {
   "cell_type": "code",
   "execution_count": 5,
   "metadata": {},
   "outputs": [],
   "source": [
    "import os\n",
    "import zipfile\n",
    "import json"
   ]
  },
  {
   "cell_type": "code",
   "execution_count": 6,
   "metadata": {},
   "outputs": [
    {
     "name": "stdout",
     "output_type": "stream",
     "text": [
      "/Users/avinashbejjam/Desktop/MU_Sem/3_2_SEM/NLP/nlp_project/PROJ_GIT/QBS\n"
     ]
    }
   ],
   "source": [
    "current_directory = os.getcwd()\n",
    "folder_path = os.path.dirname(current_directory)\n",
    "\n",
    "print(folder_path)"
   ]
  },
  {
   "cell_type": "code",
   "execution_count": 7,
   "metadata": {},
   "outputs": [],
   "source": [
    "def extract_json_from_zips(source_folder, destination_folder):\n",
    "    # Create destination folder if it doesn't exist\n",
    "    if not os.path.exists(destination_folder):\n",
    "        os.makedirs(destination_folder)\n",
    "\n",
    "    # Iterate over files in the source folder\n",
    "    for filename in os.listdir(source_folder):\n",
    "        filepath = os.path.join(source_folder, filename)\n",
    "        \n",
    "        # Check if the file is a zip archive\n",
    "        if filename.endswith('.zip'):\n",
    "            # Extract JSON files from zip archive\n",
    "            with zipfile.ZipFile(filepath, 'r') as zip_ref:\n",
    "                # Iterate over files in the zip archive\n",
    "                for file_in_zip in zip_ref.namelist():\n",
    "                    # Check if the file in the zip archive is a JSON file\n",
    "                    if file_in_zip.endswith('.json'):\n",
    "                        # Extract the JSON file from the zip archive\n",
    "                        json_data = zip_ref.read(file_in_zip).decode('utf-8')\n",
    "                        \n",
    "                        # Write the extracted JSON file to the destination folder\n",
    "                        destination_filepath = os.path.join(destination_folder, f\"{filename.split('.')[0]}_{file_in_zip}\")\n",
    "                        with open(destination_filepath, 'w') as dest_file:\n",
    "                            dest_file.write(json_data)\n",
    "    \n",
    "    print(\"Extraction complete.\")"
   ]
  },
  {
   "cell_type": "code",
   "execution_count": 8,
   "metadata": {},
   "outputs": [
    {
     "name": "stdout",
     "output_type": "stream",
     "text": [
      "Extraction complete.\n"
     ]
    }
   ],
   "source": [
    "source_folder = folder_path + '/output'\n",
    "destination_folder = folder_path + '/output_json'\n",
    "\n",
    "extract_json_from_zips(source_folder, destination_folder)"
   ]
  }
 ],
 "metadata": {
  "kernelspec": {
   "display_name": "base",
   "language": "python",
   "name": "python3"
  },
  "language_info": {
   "codemirror_mode": {
    "name": "ipython",
    "version": 3
   },
   "file_extension": ".py",
   "mimetype": "text/x-python",
   "name": "python",
   "nbconvert_exporter": "python",
   "pygments_lexer": "ipython3",
   "version": "3.11.8"
  }
 },
 "nbformat": 4,
 "nbformat_minor": 2
}
