{
 "cells": [
  {
   "cell_type": "code",
   "execution_count": 12,
   "metadata": {},
   "outputs": [],
   "source": [
    "import json\n",
    "import os\n",
    "import re"
   ]
  },
  {
   "cell_type": "code",
   "execution_count": 13,
   "metadata": {},
   "outputs": [],
   "source": [
    "# Function to extract text for each heading\n",
    "\n",
    "def extract_text_from_json(json_data, p_pattern):\n",
    "    text = \"\"\n",
    "    for key in json_data:\n",
    "        obj = json_data[key]\n",
    "        if isinstance(obj, dict):\n",
    "            if any(re.match(p_pattern, obj.get(\"Path\", \"\")) for p in [r\".*/H1\", r\".*/H2\"]) and re.match(p_pattern, obj.get(\"Path\", \"\")):\n",
    "                text += obj.get(\"Text\", \"\") + \"\\n\"\n",
    "            elif re.match(p_pattern, obj.get(\"Path\", \"\")):\n",
    "                text += obj.get(\"Text\", \"\")\n",
    "    return text.strip()\n",
    "\n",
    "# Function to write extracted text to a file\n",
    "def write_to_file(text, filename):\n",
    "    with open(filename, \"w\") as file:\n",
    "        file.write(text)\n",
    "      \n",
    "# Get the current working directory\n",
    "cwd = os.getcwd()\n",
    "\n",
    "# Get the parent directory\n",
    "parent_directory = os.path.dirname(cwd)\n",
    "\n",
    "# Directory containing JSON files (input directory)\n",
    "json_directory = os.path.join(parent_directory, \"output_json\")\n",
    "\n",
    "# Directory to store extracted text files (output directory)\n",
    "output_directory = os.path.join(parent_directory, \"text_files\")\n",
    "\n",
    "# p_pattern = r\".*/P(?:\\[\\d+\\])?$\"\n",
    "p_pattern = r\".*/(H1|H2|P)(?:\\[\\d+\\])?$\"\n",
    "\n",
    "# Iterate over each JSON file in the input directory\n",
    "for filename in os.listdir(json_directory):\n",
    "    if filename.endswith(\".json\"):\n",
    "        input_file_path = os.path.join(json_directory, filename)\n",
    "        with open(input_file_path, \"r\") as file:\n",
    "            json_data = json.load(file)\n",
    "            extracted_text = extract_text_from_json(json_data, p_pattern)\n",
    "            output_filename = os.path.splitext(filename)[0] + \"_extracted.txt\"\n",
    "            output_file_path = os.path.join(output_directory, output_filename)\n",
    "            write_to_file(extracted_text, output_file_path)\n"
   ]
  }
 ],
 "metadata": {
  "kernelspec": {
   "display_name": "base",
   "language": "python",
   "name": "python3"
  },
  "language_info": {
   "codemirror_mode": {
    "name": "ipython",
    "version": 3
   },
   "file_extension": ".py",
   "mimetype": "text/x-python",
   "name": "python",
   "nbconvert_exporter": "python",
   "pygments_lexer": "ipython3",
   "version": "3.11.8"
  }
 },
 "nbformat": 4,
 "nbformat_minor": 2
}
